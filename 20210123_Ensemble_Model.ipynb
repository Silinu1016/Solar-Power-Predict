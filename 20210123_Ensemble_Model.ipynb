{
 "cells": [
  {
   "cell_type": "code",
   "execution_count": 1,
   "metadata": {},
   "outputs": [],
   "source": [
    "## \n",
    "import tensorflow as tf\n",
    "import numpy as np\n",
    "import pandas as pd \n",
    "from sklearn.model_selection import train_test_split\n",
    "\n",
    "import matplotlib.pyplot as plt\n",
    "from numpy import argmax\n",
    "import os\n",
    "from sklearn.metrics import average_precision_score\n",
    "import datetime\n",
    "from sklearn.preprocessing import MinMaxScaler\n",
    "import math\n",
    "import random\n",
    "import csv\n",
    "import os\n",
    "import glob\n",
    "import random\n",
    "from keras import backend as K\n",
    "import time\n",
    "from functools import partial\n",
    "import warnings\n",
    "from keras.layers import Bidirectional, TimeDistributed, LSTM, Input, Dense, GRU, Dropout, InputLayer\n",
    "from keras.models import Model, clone_model\n",
    "from keras.callbacks import ModelCheckpoint\n",
    "from datetime import date\n",
    "import shutil\n",
    "\n",
    "warnings.filterwarnings(\"ignore\")"
   ]
  },
  {
   "cell_type": "markdown",
   "metadata": {},
   "source": [
    "## 전처리한 데이터 불러오기 Train, Test"
   ]
  },
  {
   "cell_type": "code",
   "execution_count": 2,
   "metadata": {},
   "outputs": [
    {
     "data": {
      "text/html": [
       "<div>\n",
       "<style scoped>\n",
       "    .dataframe tbody tr th:only-of-type {\n",
       "        vertical-align: middle;\n",
       "    }\n",
       "\n",
       "    .dataframe tbody tr th {\n",
       "        vertical-align: top;\n",
       "    }\n",
       "\n",
       "    .dataframe thead th {\n",
       "        text-align: right;\n",
       "    }\n",
       "</style>\n",
       "<table border=\"1\" class=\"dataframe\">\n",
       "  <thead>\n",
       "    <tr style=\"text-align: right;\">\n",
       "      <th></th>\n",
       "      <th>Day</th>\n",
       "      <th>Hour</th>\n",
       "      <th>DHI</th>\n",
       "      <th>DNI</th>\n",
       "      <th>WS</th>\n",
       "      <th>RH</th>\n",
       "      <th>T</th>\n",
       "      <th>TARGET</th>\n",
       "    </tr>\n",
       "  </thead>\n",
       "  <tbody>\n",
       "    <tr>\n",
       "      <th>0</th>\n",
       "      <td>0.0</td>\n",
       "      <td>4.5</td>\n",
       "      <td>0.0</td>\n",
       "      <td>0.0</td>\n",
       "      <td>1.3</td>\n",
       "      <td>74.61</td>\n",
       "      <td>-11.0</td>\n",
       "      <td>0.0</td>\n",
       "    </tr>\n",
       "    <tr>\n",
       "      <th>1</th>\n",
       "      <td>0.0</td>\n",
       "      <td>5.0</td>\n",
       "      <td>0.0</td>\n",
       "      <td>0.0</td>\n",
       "      <td>1.3</td>\n",
       "      <td>73.74</td>\n",
       "      <td>-11.0</td>\n",
       "      <td>0.0</td>\n",
       "    </tr>\n",
       "    <tr>\n",
       "      <th>2</th>\n",
       "      <td>0.0</td>\n",
       "      <td>5.5</td>\n",
       "      <td>0.0</td>\n",
       "      <td>0.0</td>\n",
       "      <td>1.3</td>\n",
       "      <td>73.73</td>\n",
       "      <td>-11.0</td>\n",
       "      <td>0.0</td>\n",
       "    </tr>\n",
       "    <tr>\n",
       "      <th>3</th>\n",
       "      <td>0.0</td>\n",
       "      <td>6.0</td>\n",
       "      <td>0.0</td>\n",
       "      <td>0.0</td>\n",
       "      <td>1.4</td>\n",
       "      <td>72.22</td>\n",
       "      <td>-12.0</td>\n",
       "      <td>0.0</td>\n",
       "    </tr>\n",
       "    <tr>\n",
       "      <th>4</th>\n",
       "      <td>0.0</td>\n",
       "      <td>6.5</td>\n",
       "      <td>0.0</td>\n",
       "      <td>0.0</td>\n",
       "      <td>1.4</td>\n",
       "      <td>72.22</td>\n",
       "      <td>-12.0</td>\n",
       "      <td>0.0</td>\n",
       "    </tr>\n",
       "  </tbody>\n",
       "</table>\n",
       "</div>"
      ],
      "text/plain": [
       "   Day  Hour  DHI  DNI   WS     RH     T  TARGET\n",
       "0  0.0   4.5  0.0  0.0  1.3  74.61 -11.0     0.0\n",
       "1  0.0   5.0  0.0  0.0  1.3  73.74 -11.0     0.0\n",
       "2  0.0   5.5  0.0  0.0  1.3  73.73 -11.0     0.0\n",
       "3  0.0   6.0  0.0  0.0  1.4  72.22 -12.0     0.0\n",
       "4  0.0   6.5  0.0  0.0  1.4  72.22 -12.0     0.0"
      ]
     },
     "execution_count": 2,
     "metadata": {},
     "output_type": "execute_result"
    }
   ],
   "source": [
    "# Train data 불러오기\n",
    "start = time.time()\n",
    "Training_Data = pd.read_csv('Change_train.csv')\n",
    "Test_Data = pd.read_csv('Change_test.csv')\n",
    "submission = pd.read_csv('submission.csv')\n",
    "Pre_Best=pd.read_csv(\"G:/공유 드라이브/HiWi/태양광 전력 예측 공모전/1. 제출용파일 폴더/pre_best.csv\")\n",
    "Pre_Best=np.array(Pre_Best)\n",
    "Best=pd.read_csv(\"G:/공유 드라이브/HiWi/태양광 전력 예측 공모전/1. 제출용파일 폴더/best_file.csv\")\n",
    "Best=np.array(Best)\n",
    "Training_Data.head()"
   ]
  },
  {
   "cell_type": "markdown",
   "metadata": {},
   "source": [
    "## Parameter "
   ]
  },
  {
   "cell_type": "code",
   "execution_count": 3,
   "metadata": {},
   "outputs": [],
   "source": [
    "# divide_train=5 # 몇 구간으로 나눌 것인가?\n",
    "one_day=30 # 하루 (단위: 분)\n",
    "origin_day=96\n",
    "# divide_zone=math.floor((1095)/divide_train) # 나눌 구간 조정 (단위: 일)\n",
    "# Validation_day=one_day*2 # 원하는 Validation 만들기 ex) 30 * 7 = 210 -> 뒤에서 일주일 가져오기\n",
    "seq_length=one_day * 5 # 1 ~ 210까지 가능\n",
    "#[1,2,3,4,5,6,10,12,15,20,30,60] => 60(2일 데이터)의 약수\n",
    "future_length=one_day * 2 # ex) 1이면 1개씩=60, 2면 2개씩=30.....30개 2개=2\n",
    "# act= 'relu' #activation\n",
    "\n",
    "drop=0.10\n",
    "tau=[0.1, 0.2, 0.3, 0.4, 0.5, 0.6, 0.7, 0.8, 0.9]\n",
    "num_test=81\n",
    "batch=2000\n",
    "\n",
    "\n",
    "seed=[4]\n",
    "ensemble_model_num=len(seed)\n",
    "layers=4\n",
    "Dense_num=120\n",
    "# LSTM_layers=4\n",
    "# Bi_LSTM_layers=4\n",
    "\n"
   ]
  },
  {
   "cell_type": "markdown",
   "metadata": {},
   "source": [
    "## 파일 이름 지정하기"
   ]
  },
  {
   "cell_type": "code",
   "execution_count": 4,
   "metadata": {},
   "outputs": [
    {
     "name": "stdout",
     "output_type": "stream",
     "text": [
      "2021-01-26-5day_4\n"
     ]
    }
   ],
   "source": [
    "\n",
    "# total_name = ()\n",
    "# total_file_name = []\n",
    "today = date.today()\n",
    "\n",
    "# ########### 1. BI_LSTM ---- 2. CNN ---- 3. RMM 순으로 모델링이 된다. ###########\n",
    "    \n",
    "# for i in range(len(tau)):\n",
    "#     exec('Model_name%d = [act[%d], int(total_iter[%d]), Model_Select[%d]]'%(i+1, i, i, i))\n",
    "# #     exec('Model_name%d = [tau[%d], act[%d], int(total_iter[%d]), train_num[%d]+1]'%(i+1, i, i, i, i))\n",
    "\n",
    "\n",
    "# file_name = f'{today}-{int(seq_length/one_day)}day{Model_name_total[0:]}'\n",
    "file_name = f'{today}-{int(seq_length/one_day)}day_{seed[0]}'\n",
    "print(file_name)\n",
    "## file_name은 날짜 - 몇일(day) - q(0.1~0.9순으로) [activation, total_epochs, model_num]순으로 구성\n",
    "file_name = str(file_name)"
   ]
  },
  {
   "cell_type": "markdown",
   "metadata": {},
   "source": [
    "## 학습모델 지정"
   ]
  },
  {
   "cell_type": "code",
   "execution_count": 5,
   "metadata": {},
   "outputs": [],
   "source": [
    "#Quantile 마다 학습 모델을 설정한다.(총 9개에 대한 모델과 iteration, learning rate를 지정한다.)\n",
    "Model_Select=[1,1,1,1,1,1,1,1,1]\n",
    "#iteration = [5000,5000,5000,5000,5000,5000,5000,5000,5000]\n",
    "iteration = [10000,10000,10000,10000,10000,10000,10000,10000,10000]\n",
    "learning_rate = [0.001,0.001,0.001,0.001,0.001,0.001,0.001,0.001,0.001]\n",
    "\n",
    "act=['selu','selu','selu','selu','selu','selu','selu','selu','selu']\n",
    "\n",
    "Num_unit1=[5,5,5,5,5,5,5,5,5]\n",
    "Num_unit2=[5,5,5,5,5,5,5,5,5]\n",
    "\n",
    "total_iter=[10000,10000,10000,10000,10000,10000,10000,10000,10000]\n"
   ]
  },
  {
   "cell_type": "code",
   "execution_count": 6,
   "metadata": {},
   "outputs": [],
   "source": [
    "# for i in range(5):\n",
    "#     globals()[f'filePath{i+1}'] = f'C:/Users/USER/Desktop/23일 Ensemble_Models pred_v1/test{i+1}'\n",
    "\n",
    "# def search(dirname):\n",
    "#     all_dir = []\n",
    "#     filenames = os.listdir(dirname)\n",
    "#     for filename in filenames:\n",
    "#         full_filename = os.path.join(dirname, filename)\n",
    "#         all_dir.append(full_filename)\n",
    "#     return all_dir\n",
    "\n",
    "# # print(filePath5)\n",
    "\n",
    "# for j in range(5):\n",
    "#     globals()[f'all_dir{j+1}'] = search(globals()[f'filePath{j+1}'])\n",
    "#     for i in range(len(globals()[f'all_dir{j+1}'])):\n",
    "#         shutil.rmtree(globals()[f'all_dir{j+1}'][i])"
   ]
  },
  {
   "cell_type": "code",
   "execution_count": 7,
   "metadata": {},
   "outputs": [],
   "source": [
    "# Data 열 제거\n",
    "Training_data=Training_Data.drop(['Day','WS','Hour','DHI','DNI','RH','T'],axis=1)\n",
    "P_Training_data = np.array(Training_data)\n",
    "Test_data=Test_Data.drop(['Day','WS','Hour','DHI','DNI','RH','T'],axis=1)\n",
    "test_data = np.array(Test_data)"
   ]
  },
  {
   "cell_type": "code",
   "execution_count": 8,
   "metadata": {},
   "outputs": [],
   "source": [
    "Num_col=len(P_Training_data[1])"
   ]
  },
  {
   "cell_type": "code",
   "execution_count": 9,
   "metadata": {},
   "outputs": [],
   "source": [
    "## Normalizing Data (2개 중 하나 선택)\n",
    "def MinMaxScaler(data): #데이터 마다 사이즈가 다르기 때문에 0~1사이로 스케일링\n",
    "    numerator = data - min(np.min(data, 0)) #분자 사이즈\n",
    "    denominator = max(np.max(data, 0)) - min(np.min(data, 0)) #분모 사이즈\n",
    "    # noise term prevents the zero division\n",
    "    return numerator / (denominator + 1e-7),min(np.min(data, 0)),denominator+1e-7\n",
    "\n",
    "# def StandardScaler(data): #평균을 제거하고 데이터를 단위 분산으로 조정.(기본스케일, 평균과 표준편차 사용)\n",
    "#     return (data-np.mean(data, 0))/np.std(data,0),np.std(data,0),np.mean(data, 0)\n",
    "def Re_MinMaxScaler(data,min_data,denominator):\n",
    "    return data*denominator+min_data\n",
    "\n",
    "def pinball(q,y_true, y_pred):\n",
    "    error=y_true-y_pred\n",
    "    tao = q\n",
    "    pin = K.mean(K.maximum(q*error, (q-1)*error), axis=-1)\n",
    "    return pin\n",
    "\n",
    "def build_dataset(Training_data, seq_length, future_length,one_day):\n",
    "    #Train=Training_data.shape[0]-future_length-1\n",
    "    dataX = []  #x,y에 대해서 저장하기위해 리스트형으로 만듬.\n",
    "    dataY = []\n",
    "    moving_average=one_day\n",
    "    for i in range(0, int((len(Training_data)-seq_length-future_length)/moving_average)+1): \n",
    "        _x = Training_data[i*moving_average:i*moving_average+seq_length,:]\n",
    "        _y = Training_data[i*moving_average+seq_length:i*moving_average+seq_length+future_length,-1] \n",
    "        dataX.append(_x) #위에서 나온 _x를 dataX에 붙여서 저장\n",
    "        dataY.append(_y) #위에서 나온 _y를 dataY에 붙여서 저장\n",
    "    #print(f\"TrainSet ({i})_FutureLength({future_length}): dataX{np.array(dataX).shape}, dataY{np.array(dataY).shape}\")\n",
    "    return np.array(dataX), np.array(dataY)\n",
    "\n",
    "def build_testset(Test_data, seq_length, future_length):\n",
    "    #Train=Training_data.shape[0]-future_length-1\n",
    "    dataX = []  #x,y에 대해서 저장하기위해 리스트형으로 만듬.\n",
    "    _x = Test_data[-seq_length:,:]\n",
    "    dataX.append(_x) #위에서 나온 _x를 dataX에 붙여서 저장\n",
    "    #print(f'TestSet({i}) : dataX{np.array(dataX).shape}')\n",
    "    return np.array(dataX)\n",
    "\n",
    "def Make_zero(Original_dataX,Predict_data,seq_length,future_length,one_day,tau):\n",
    "    for i in range(Predict_data.shape[0]):\n",
    "        for j in range(future_length):\n",
    "            if(Predict_data[i,j]<=0):\n",
    "                Predict_data[i,j]=0\n",
    "    for i in range(Original_dataX.shape[0]):\n",
    "        for j in range(one_day):\n",
    "            Data_zero=[]\n",
    "            for k in range(int(seq_length/one_day)):\n",
    "                Data_zero.append(Original_dataX[i,j+one_day*k,-1])\n",
    "            if(max(Data_zero)==0):\n",
    "                Predict_data[i,j]=0\n",
    "                Predict_data[i,j+one_day]=0\n",
    "    return Predict_data\n",
    "\n",
    "def one_day_to_original_day(Data):\n",
    "    Predict_data_with_zero=np.zeros((Data.shape[0],96))            \n",
    "    for i in range(Data.shape[0]):\n",
    "        Predict_data_with_zero[i,9:9+30]=Data[i,:30]\n",
    "        Predict_data_with_zero[i,9+48:9+30+48]=Data[i,30:]\n",
    "    return Predict_data_with_zero\n",
    "\n",
    "def Make_Data(Data,Pred,seq_length,future_length,Min,den,one_day,tau):\n",
    "    Change_zero=Make_zero(Data,Pred,seq_length,future_length,one_day,tau)\n",
    "    Pred_Origin=one_day_to_original_day(Change_zero)\n",
    "    Pred_Origin=Re_MinMaxScaler(Pred_Origin,Min,den)\n",
    "    return Pred_Origin"
   ]
  },
  {
   "cell_type": "code",
   "execution_count": 10,
   "metadata": {},
   "outputs": [],
   "source": [
    "Total_Data_set=np.vstack((P_Training_data,test_data))"
   ]
  },
  {
   "cell_type": "code",
   "execution_count": 11,
   "metadata": {},
   "outputs": [],
   "source": [
    "Scale_Data_set,Min,den = MinMaxScaler(Total_Data_set)"
   ]
  },
  {
   "cell_type": "code",
   "execution_count": 12,
   "metadata": {},
   "outputs": [
    {
     "name": "stdout",
     "output_type": "stream",
     "text": [
      "0.0 99.9139391\n"
     ]
    }
   ],
   "source": [
    "print(Min,den)"
   ]
  },
  {
   "cell_type": "code",
   "execution_count": 13,
   "metadata": {},
   "outputs": [
    {
     "name": "stdout",
     "output_type": "stream",
     "text": [
      "(1, 17010, 1)\n"
     ]
    }
   ],
   "source": [
    "# Scale 된 Data들을 다시 분리\n",
    "Train=Scale_Data_set[:P_Training_data.shape[0],:] # (32610, 6) (각 validation의 2일(*30)씩 뺀 값)\n",
    "Test=Scale_Data_set[P_Training_data.shape[0]:,:] # (17010, 6) (81개*6일*30)\n",
    "Test = np.reshape(Test,(1,Test.shape[0],Test.shape[1]))\n",
    "print(Test.shape)"
   ]
  },
  {
   "cell_type": "markdown",
   "metadata": {},
   "source": [
    "## Build data set"
   ]
  },
  {
   "cell_type": "code",
   "execution_count": 14,
   "metadata": {},
   "outputs": [
    {
     "name": "stdout",
     "output_type": "stream",
     "text": [
      "(1089, 150, 1)\n",
      "(1089, 60)\n"
     ]
    }
   ],
   "source": [
    "trainX,trainY=build_dataset(Train,seq_length, future_length,one_day)\n",
    "print(trainX.shape)\n",
    "print(trainY.shape)"
   ]
  },
  {
   "cell_type": "code",
   "execution_count": 15,
   "metadata": {},
   "outputs": [],
   "source": [
    "for i in range(num_test):\n",
    "    exec(\"testX%d=np.zeros((one_day*7,Num_col))\"%(i+1))\n",
    "    exec(\"testX%d[:,:]=Test[0,i*one_day*7:(i+1)*one_day*7,:]\"%(i+1))"
   ]
  },
  {
   "cell_type": "code",
   "execution_count": 16,
   "metadata": {},
   "outputs": [],
   "source": [
    "TEST=np.zeros((num_test,seq_length,Num_col))\n",
    "for i in range(num_test):\n",
    "    exec(\"TEST[i,:,:]=build_testset(testX%d, seq_length, future_length)\"%(i+1))"
   ]
  },
  {
   "cell_type": "markdown",
   "metadata": {},
   "source": [
    "## 학 습 Model"
   ]
  },
  {
   "cell_type": "code",
   "execution_count": 17,
   "metadata": {},
   "outputs": [
    {
     "name": "stdout",
     "output_type": "stream",
     "text": [
      "(150, 1)\n",
      "(1089, 150, 1)\n",
      "(1089, 60)\n",
      "Model: \"sequential\"\n",
      "_________________________________________________________________\n",
      "Layer (type)                 Output Shape              Param #   \n",
      "=================================================================\n",
      "lstm (LSTM)                  (None, 150, 5)            140       \n",
      "_________________________________________________________________\n",
      "bidirectional (Bidirectional (None, 10)                440       \n",
      "_________________________________________________________________\n",
      "dense (Dense)                (None, 120)               1320      \n",
      "_________________________________________________________________\n",
      "dropout (Dropout)            (None, 120)               0         \n",
      "_________________________________________________________________\n",
      "dense_1 (Dense)              (None, 120)               14520     \n",
      "_________________________________________________________________\n",
      "dropout_1 (Dropout)          (None, 120)               0         \n",
      "_________________________________________________________________\n",
      "dense_2 (Dense)              (None, 120)               14520     \n",
      "_________________________________________________________________\n",
      "dropout_2 (Dropout)          (None, 120)               0         \n",
      "_________________________________________________________________\n",
      "dense_3 (Dense)              (None, 60)                7260      \n",
      "=================================================================\n",
      "Total params: 38,200\n",
      "Trainable params: 38,200\n",
      "Non-trainable params: 0\n",
      "_________________________________________________________________\n",
      "Model: \"sequential_1\"\n",
      "_________________________________________________________________\n",
      "Layer (type)                 Output Shape              Param #   \n",
      "=================================================================\n",
      "lstm_2 (LSTM)                (None, 150, 5)            140       \n",
      "_________________________________________________________________\n",
      "bidirectional_1 (Bidirection (None, 10)                440       \n",
      "_________________________________________________________________\n",
      "dense_4 (Dense)              (None, 120)               1320      \n",
      "_________________________________________________________________\n",
      "dropout_3 (Dropout)          (None, 120)               0         \n",
      "_________________________________________________________________\n",
      "dense_5 (Dense)              (None, 120)               14520     \n",
      "_________________________________________________________________\n",
      "dropout_4 (Dropout)          (None, 120)               0         \n",
      "_________________________________________________________________\n",
      "dense_6 (Dense)              (None, 120)               14520     \n",
      "_________________________________________________________________\n",
      "dropout_5 (Dropout)          (None, 120)               0         \n",
      "_________________________________________________________________\n",
      "dense_7 (Dense)              (None, 60)                7260      \n",
      "=================================================================\n",
      "Total params: 38,200\n",
      "Trainable params: 38,200\n",
      "Non-trainable params: 0\n",
      "_________________________________________________________________\n",
      "Model: \"sequential_2\"\n",
      "_________________________________________________________________\n",
      "Layer (type)                 Output Shape              Param #   \n",
      "=================================================================\n",
      "lstm_4 (LSTM)                (None, 150, 5)            140       \n",
      "_________________________________________________________________\n",
      "bidirectional_2 (Bidirection (None, 10)                440       \n",
      "_________________________________________________________________\n",
      "dense_8 (Dense)              (None, 120)               1320      \n",
      "_________________________________________________________________\n",
      "dropout_6 (Dropout)          (None, 120)               0         \n",
      "_________________________________________________________________\n",
      "dense_9 (Dense)              (None, 120)               14520     \n",
      "_________________________________________________________________\n",
      "dropout_7 (Dropout)          (None, 120)               0         \n",
      "_________________________________________________________________\n",
      "dense_10 (Dense)             (None, 120)               14520     \n",
      "_________________________________________________________________\n",
      "dropout_8 (Dropout)          (None, 120)               0         \n",
      "_________________________________________________________________\n",
      "dense_11 (Dense)             (None, 60)                7260      \n",
      "=================================================================\n",
      "Total params: 38,200\n",
      "Trainable params: 38,200\n",
      "Non-trainable params: 0\n",
      "_________________________________________________________________\n",
      "Model: \"sequential_3\"\n",
      "_________________________________________________________________\n",
      "Layer (type)                 Output Shape              Param #   \n",
      "=================================================================\n",
      "lstm_6 (LSTM)                (None, 150, 5)            140       \n",
      "_________________________________________________________________\n",
      "bidirectional_3 (Bidirection (None, 10)                440       \n",
      "_________________________________________________________________\n",
      "dense_12 (Dense)             (None, 120)               1320      \n",
      "_________________________________________________________________\n",
      "dropout_9 (Dropout)          (None, 120)               0         \n",
      "_________________________________________________________________\n",
      "dense_13 (Dense)             (None, 120)               14520     \n",
      "_________________________________________________________________\n",
      "dropout_10 (Dropout)         (None, 120)               0         \n",
      "_________________________________________________________________\n",
      "dense_14 (Dense)             (None, 120)               14520     \n",
      "_________________________________________________________________\n",
      "dropout_11 (Dropout)         (None, 120)               0         \n",
      "_________________________________________________________________\n",
      "dense_15 (Dense)             (None, 60)                7260      \n",
      "=================================================================\n",
      "Total params: 38,200\n",
      "Trainable params: 38,200\n",
      "Non-trainable params: 0\n",
      "_________________________________________________________________\n",
      "Model: \"sequential_4\"\n",
      "_________________________________________________________________\n",
      "Layer (type)                 Output Shape              Param #   \n",
      "=================================================================\n",
      "lstm_8 (LSTM)                (None, 150, 5)            140       \n",
      "_________________________________________________________________\n",
      "bidirectional_4 (Bidirection (None, 10)                440       \n",
      "_________________________________________________________________\n",
      "dense_16 (Dense)             (None, 120)               1320      \n",
      "_________________________________________________________________\n",
      "dropout_12 (Dropout)         (None, 120)               0         \n",
      "_________________________________________________________________\n",
      "dense_17 (Dense)             (None, 120)               14520     \n",
      "_________________________________________________________________\n",
      "dropout_13 (Dropout)         (None, 120)               0         \n",
      "_________________________________________________________________\n",
      "dense_18 (Dense)             (None, 120)               14520     \n",
      "_________________________________________________________________\n",
      "dropout_14 (Dropout)         (None, 120)               0         \n",
      "_________________________________________________________________\n",
      "dense_19 (Dense)             (None, 60)                7260      \n",
      "=================================================================\n",
      "Total params: 38,200\n",
      "Trainable params: 38,200\n",
      "Non-trainable params: 0\n",
      "_________________________________________________________________\n",
      "Model: \"sequential_5\"\n",
      "_________________________________________________________________\n",
      "Layer (type)                 Output Shape              Param #   \n",
      "=================================================================\n",
      "lstm_10 (LSTM)               (None, 150, 5)            140       \n",
      "_________________________________________________________________\n",
      "bidirectional_5 (Bidirection (None, 10)                440       \n",
      "_________________________________________________________________\n",
      "dense_20 (Dense)             (None, 120)               1320      \n",
      "_________________________________________________________________\n",
      "dropout_15 (Dropout)         (None, 120)               0         \n",
      "_________________________________________________________________\n",
      "dense_21 (Dense)             (None, 120)               14520     \n",
      "_________________________________________________________________\n",
      "dropout_16 (Dropout)         (None, 120)               0         \n",
      "_________________________________________________________________\n",
      "dense_22 (Dense)             (None, 120)               14520     \n",
      "_________________________________________________________________\n",
      "dropout_17 (Dropout)         (None, 120)               0         \n",
      "_________________________________________________________________\n",
      "dense_23 (Dense)             (None, 60)                7260      \n",
      "=================================================================\n",
      "Total params: 38,200\n",
      "Trainable params: 38,200\n",
      "Non-trainable params: 0\n",
      "_________________________________________________________________\n"
     ]
    },
    {
     "name": "stdout",
     "output_type": "stream",
     "text": [
      "Model: \"sequential_6\"\n",
      "_________________________________________________________________\n",
      "Layer (type)                 Output Shape              Param #   \n",
      "=================================================================\n",
      "lstm_12 (LSTM)               (None, 150, 5)            140       \n",
      "_________________________________________________________________\n",
      "bidirectional_6 (Bidirection (None, 10)                440       \n",
      "_________________________________________________________________\n",
      "dense_24 (Dense)             (None, 120)               1320      \n",
      "_________________________________________________________________\n",
      "dropout_18 (Dropout)         (None, 120)               0         \n",
      "_________________________________________________________________\n",
      "dense_25 (Dense)             (None, 120)               14520     \n",
      "_________________________________________________________________\n",
      "dropout_19 (Dropout)         (None, 120)               0         \n",
      "_________________________________________________________________\n",
      "dense_26 (Dense)             (None, 120)               14520     \n",
      "_________________________________________________________________\n",
      "dropout_20 (Dropout)         (None, 120)               0         \n",
      "_________________________________________________________________\n",
      "dense_27 (Dense)             (None, 60)                7260      \n",
      "=================================================================\n",
      "Total params: 38,200\n",
      "Trainable params: 38,200\n",
      "Non-trainable params: 0\n",
      "_________________________________________________________________\n",
      "Model: \"sequential_7\"\n",
      "_________________________________________________________________\n",
      "Layer (type)                 Output Shape              Param #   \n",
      "=================================================================\n",
      "lstm_14 (LSTM)               (None, 150, 5)            140       \n",
      "_________________________________________________________________\n",
      "bidirectional_7 (Bidirection (None, 10)                440       \n",
      "_________________________________________________________________\n",
      "dense_28 (Dense)             (None, 120)               1320      \n",
      "_________________________________________________________________\n",
      "dropout_21 (Dropout)         (None, 120)               0         \n",
      "_________________________________________________________________\n",
      "dense_29 (Dense)             (None, 120)               14520     \n",
      "_________________________________________________________________\n",
      "dropout_22 (Dropout)         (None, 120)               0         \n",
      "_________________________________________________________________\n",
      "dense_30 (Dense)             (None, 120)               14520     \n",
      "_________________________________________________________________\n",
      "dropout_23 (Dropout)         (None, 120)               0         \n",
      "_________________________________________________________________\n",
      "dense_31 (Dense)             (None, 60)                7260      \n",
      "=================================================================\n",
      "Total params: 38,200\n",
      "Trainable params: 38,200\n",
      "Non-trainable params: 0\n",
      "_________________________________________________________________\n",
      "Model: \"sequential_8\"\n",
      "_________________________________________________________________\n",
      "Layer (type)                 Output Shape              Param #   \n",
      "=================================================================\n",
      "lstm_16 (LSTM)               (None, 150, 5)            140       \n",
      "_________________________________________________________________\n",
      "bidirectional_8 (Bidirection (None, 10)                440       \n",
      "_________________________________________________________________\n",
      "dense_32 (Dense)             (None, 120)               1320      \n",
      "_________________________________________________________________\n",
      "dropout_24 (Dropout)         (None, 120)               0         \n",
      "_________________________________________________________________\n",
      "dense_33 (Dense)             (None, 120)               14520     \n",
      "_________________________________________________________________\n",
      "dropout_25 (Dropout)         (None, 120)               0         \n",
      "_________________________________________________________________\n",
      "dense_34 (Dense)             (None, 120)               14520     \n",
      "_________________________________________________________________\n",
      "dropout_26 (Dropout)         (None, 120)               0         \n",
      "_________________________________________________________________\n",
      "dense_35 (Dense)             (None, 60)                7260      \n",
      "=================================================================\n",
      "Total params: 38,200\n",
      "Trainable params: 38,200\n",
      "Non-trainable params: 0\n",
      "_________________________________________________________________\n"
     ]
    }
   ],
   "source": [
    "print(trainX[1].shape)\n",
    "print(trainX.shape)\n",
    "print(trainY.shape)\n",
    "\n",
    "for j in range(1,1+ensemble_model_num): \n",
    "    for q in range(len(tau)):\n",
    "        tf.random.set_seed(seed[j-1])\n",
    "        #-----------Bidirectional LSTM Model------------\n",
    "        globals()[f\"model{j}_{q+1}\"]=tf.keras.Sequential()\n",
    "        globals()[f\"model{j}_{q+1}\"].add(Input(shape=(trainX.shape[1], trainX.shape[2])))\n",
    "        globals()[f\"model{j}_{q+1}\"].add(LSTM(Num_unit1[q], return_sequences = True))\n",
    "        globals()[f\"model{j}_{q+1}\"].add(Bidirectional(LSTM(Num_unit2[q])))\n",
    "        for k in range(1,layers):\n",
    "            globals()[f\"model{j}_{q+1}\"].add(Dense(units=Dense_num, activation=act[q]))\n",
    "            globals()[f\"model{j}_{q+1}\"].add(Dropout(drop))\n",
    "        globals()[f\"model{j}_{q+1}\"].add(Dense(units=future_length))\n",
    "        exec(\"model%d_%d.compile(loss=lambda y,pred: pinball(tau[q],y,pred) ,optimizer=tf.optimizers.Adam(lr=learning_rate[q]))\"%(j,q+1))\n",
    "        exec(\"model%d_%d.summary()\"%(j,q+1))"
   ]
  },
  {
   "cell_type": "code",
   "execution_count": 18,
   "metadata": {
    "scrolled": true
   },
   "outputs": [
    {
     "name": "stdout",
     "output_type": "stream",
     "text": [
      "------------------------------------------------------------------------------------------------------------------------\n",
      "q = 0.1\n",
      "------------------------------------------------------------------------------------------------------------------------\n",
      "q = 0.2\n",
      "------------------------------------------------------------------------------------------------------------------------\n",
      "q = 0.3\n",
      "------------------------------------------------------------------------------------------------------------------------\n",
      "q = 0.4\n",
      "------------------------------------------------------------------------------------------------------------------------\n",
      "q = 0.5\n",
      "------------------------------------------------------------------------------------------------------------------------\n",
      "q = 0.6\n",
      "------------------------------------------------------------------------------------------------------------------------\n",
      "q = 0.7\n",
      "------------------------------------------------------------------------------------------------------------------------\n",
      "q = 0.8\n",
      "------------------------------------------------------------------------------------------------------------------------\n",
      "q = 0.9\n"
     ]
    },
    {
     "data": {
      "text/plain": [
       "<Figure size 432x288 with 0 Axes>"
      ]
     },
     "metadata": {},
     "output_type": "display_data"
    },
    {
     "data": {
      "image/png": "[encoded data removed]",
      "text/plain": [
       "<Figure size 864x288 with 1 Axes>"
      ]
     },
     "metadata": {
      "needs_background": "light"
     },
     "output_type": "display_data"
    },
    {
     "data": {
      "text/plain": [
       "<Figure size 432x288 with 0 Axes>"
      ]
     },
     "metadata": {},
     "output_type": "display_data"
    },
    {
     "data": {
      "image/png": "[encoded data removed]",
      "text/plain": [
       "<Figure size 864x288 with 1 Axes>"
      ]
     },
     "metadata": {
      "needs_background": "light"
     },
     "output_type": "display_data"
    },
    {
     "data": {
      "text/plain": [
       "<Figure size 432x288 with 0 Axes>"
      ]
     },
     "metadata": {},
     "output_type": "display_data"
    },
    {
     "data": {
      "image/png": "[encoded data removed]",
      "text/plain": [
       "<Figure size 864x288 with 1 Axes>"
      ]
     },
     "metadata": {
      "needs_background": "light"
     },
     "output_type": "display_data"
    },
    {
     "data": {
      "text/plain": [
       "<Figure size 432x288 with 0 Axes>"
      ]
     },
     "metadata": {},
     "output_type": "display_data"
    },
    {
     "data": {
      "image/png": "[encoded data removed]",
      "text/plain": [
       "<Figure size 864x288 with 1 Axes>"
      ]
     },
     "metadata": {
      "needs_background": "light"
     },
     "output_type": "display_data"
    },
    {
     "data": {
      "text/plain": [
       "<Figure size 432x288 with 0 Axes>"
      ]
     },
     "metadata": {},
     "output_type": "display_data"
    },
    {
     "data": {
      "image/png": "[encoded data removed]",
      "text/plain": [
       "<Figure size 864x288 with 1 Axes>"
      ]
     },
     "metadata": {
      "needs_background": "light"
     },
     "output_type": "display_data"
    },
    {
     "data": {
      "text/plain": [
       "<Figure size 432x288 with 0 Axes>"
      ]
     },
     "metadata": {},
     "output_type": "display_data"
    },
    {
     "data": {
      "image/png": "[encoded data removed]",
      "text/plain": [
       "<Figure size 864x288 with 1 Axes>"
      ]
     },
     "metadata": {
      "needs_background": "light"
     },
     "output_type": "display_data"
    },
    {
     "data": {
      "text/plain": [
       "<Figure size 432x288 with 0 Axes>"
      ]
     },
     "metadata": {},
     "output_type": "display_data"
    },
    {
     "data": {
      "image/png": "[encoded data removed]",
      "text/plain": [
       "<Figure size 864x288 with 1 Axes>"
      ]
     },
     "metadata": {
      "needs_background": "light"
     },
     "output_type": "display_data"
    },
    {
     "data": {
      "text/plain": [
       "<Figure size 432x288 with 0 Axes>"
      ]
     },
     "metadata": {},
     "output_type": "display_data"
    },
    {
     "data": {
      "image/png": "[encoded data removed]",
      "text/plain": [
       "<Figure size 864x288 with 1 Axes>"
      ]
     },
     "metadata": {
      "needs_background": "light"
     },
     "output_type": "display_data"
    },
    {
     "data": {
      "text/plain": [
       "<Figure size 432x288 with 0 Axes>"
      ]
     },
     "metadata": {},
     "output_type": "display_data"
    },
    {
     "data": {
      "image/png": "[encoded data removed]",
      "text/plain": [
       "<Figure size 864x288 with 1 Axes>"
      ]
     },
     "metadata": {
      "needs_background": "light"
     },
     "output_type": "display_data"
    }
   ],
   "source": [
    "for q in range(len(tau)):\n",
    "    for j in range(1,ensemble_model_num+1):\n",
    "        tf.random.set_seed(seed[j-1])\n",
    "    # ------------ pinball loss------------------ \n",
    "        print('-'*120)\n",
    "        print(\"q = %.1f\" %tau[q])\n",
    "        \n",
    "        exec(\"HISTORY%d_%d=model%d_%d.fit(trainX, trainY, epochs=iteration[q], batch_size=batch,verbose=0)\"%(j,q+1,j,q+1))\n",
    "        \n",
    "        plt.figure()\n",
    "        plt.figure(figsize=(12,4))\n",
    "        exec(\"plt.plot(HISTORY%d_%d.history['loss'], label=f'Loss{q+1}')\"%(j,q+1))\n",
    "        plt.xlabel('Epoch')\n",
    "        plt.legend()\n",
    "        plt.grid()\n",
    "    "
   ]
  },
  {
   "cell_type": "markdown",
   "metadata": {},
   "source": [
    "## Train, Test 예측"
   ]
  },
  {
   "cell_type": "code",
   "execution_count": 19,
   "metadata": {},
   "outputs": [],
   "source": [
    "\n",
    "for q in range(len(tau)):\n",
    "    for j in range(1,ensemble_model_num+1):\n",
    "        tf.random.set_seed(seed[j-1])\n",
    "        exec(\"Train_Predict%d_%d=np.zeros((trainX.shape[0],future_length))\"%(j,q+1))\n",
    "        exec(\"Train_Predict%d_%d=model%d_%d.predict(trainX)\"%(j,q+1,j,q+1))\n",
    "        exec(\"Test_Predict%d_%d=np.zeros((num_test,future_length))\"%(j,q+1))\n",
    "        exec(\"Test_Predict%d_%d=model%d_%d.predict(TEST)\"%(j,q+1,j,q+1))\n",
    "    "
   ]
  },
  {
   "cell_type": "code",
   "execution_count": 20,
   "metadata": {},
   "outputs": [],
   "source": [
    "for q in range(len(tau)):\n",
    "    globals()[f\"Train_Predict_Ensemble{q+1}\"]=np.zeros((trainX.shape[0],future_length))\n",
    "    globals()[f\"Test_Predict_Ensemble{q+1}\"]=np.zeros((TEST.shape[0],future_length))\n",
    "    for j in range(1,ensemble_model_num+1):\n",
    "        globals()[f\"Train_Predict_Ensemble{q+1}\"]=globals()[f\"Train_Predict{j}_{q+1}\"]+globals()[f\"Train_Predict_Ensemble{q+1}\"]\n",
    "        globals()[f\"Test_Predict_Ensemble{q+1}\"]=globals()[f\"Test_Predict{j}_{q+1}\"]+globals()[f\"Test_Predict_Ensemble{q+1}\"]\n",
    "    globals()[f\"Train_Predict_Ensemble{q+1}\"]=globals()[f\"Train_Predict_Ensemble{q+1}\"]/ensemble_model_num    \n",
    "    globals()[f\"Test_Predict_Ensemble{q+1}\"]=globals()[f\"Test_Predict_Ensemble{q+1}\"]/ensemble_model_num"
   ]
  },
  {
   "cell_type": "markdown",
   "metadata": {},
   "source": [
    "## Training Predict Pinball Loss 확인"
   ]
  },
  {
   "cell_type": "code",
   "execution_count": 21,
   "metadata": {},
   "outputs": [],
   "source": [
    "for q in range(len(tau)):\n",
    "    exec(\"Train_Predict_origin%d=np.zeros((trainX.shape[0],origin_day))\"%(q+1))\n",
    "    exec(\"Train_Predict_origin%d=Make_Data(trainX,Train_Predict_Ensemble%d,seq_length,future_length,Min,den,one_day,tau)\"%(q+1,q+1))"
   ]
  },
  {
   "cell_type": "code",
   "execution_count": 22,
   "metadata": {},
   "outputs": [],
   "source": [
    "Origin_trainY=one_day_to_original_day(trainY)\n",
    "Origin_trainY=Re_MinMaxScaler(Origin_trainY,Min,den)"
   ]
  },
  {
   "cell_type": "code",
   "execution_count": 23,
   "metadata": {},
   "outputs": [],
   "source": [
    "train_pred=np.zeros((origin_day*trainX.shape[0],len(tau)))\n",
    "Original_trainY=np.zeros((origin_day*trainX.shape[0],1))\n",
    "for j in range(trainX.shape[0]):\n",
    "    for i in range(len(tau)):   \n",
    "        exec(\"train_pred[origin_day*j:(j+1)*origin_day,i]=np.transpose(np.array(Train_Predict_origin%d[j,:]))\"%(i+1))\n",
    "    Original_trainY[origin_day*j:(j+1)*origin_day,0]=np.transpose(np.array(Origin_trainY[j,:]))"
   ]
  },
  {
   "cell_type": "code",
   "execution_count": 24,
   "metadata": {},
   "outputs": [],
   "source": [
    "Train_Loss_Mean1=[]\n",
    "Train_Loss_Mean2=[]\n",
    "for q in range(len(tau)):\n",
    "    exec(\"Train_Pinball_Loss_1_%d=pinball(tau[q],Origin_trainY[:,:48],Train_Predict_origin%d[:,:48])\"%(q+1,q+1))\n",
    "    exec(\"Train_Pinball_Loss_2_%d=pinball(tau[q],Origin_trainY[:,48:],Train_Predict_origin%d[:,48:])\"%(q+1,q+1))\n",
    "    exec(\"Train_Loss_Mean1.append(np.mean(Train_Pinball_Loss_1_%d))\"%(q+1))\n",
    "    exec(\"Train_Loss_Mean2.append(np.mean(Train_Pinball_Loss_2_%d))\"%(q+1))"
   ]
  },
  {
   "cell_type": "code",
   "execution_count": 25,
   "metadata": {},
   "outputs": [
    {
     "name": "stdout",
     "output_type": "stream",
     "text": [
      "[1.1877480051064748, 1.9228046699813381, 2.300222385695185, 2.4530093543590463, 2.427332890459233, 2.2050294000276396, 1.8282035768336422, 1.305438468735519, 0.742909649442683]\n",
      "1.8191887111823069\n",
      "16.37269840064076\n",
      "[1.2245898522599985, 1.9928587376537923, 2.438991356071869, 2.6017301497282146, 2.577511491567966, 2.308864137956775, 1.8927322144682643, 1.3421056438094128, 0.7536859098905171]\n",
      "1.9036743881563123\n",
      "17.13306949340681\n"
     ]
    }
   ],
   "source": [
    "print(Train_Loss_Mean1)\n",
    "print(np.mean(Train_Loss_Mean1))\n",
    "print(sum(Train_Loss_Mean1))\n",
    "print(Train_Loss_Mean2)\n",
    "print(np.mean(Train_Loss_Mean2))\n",
    "print(sum(Train_Loss_Mean2))"
   ]
  },
  {
   "cell_type": "code",
   "execution_count": 26,
   "metadata": {},
   "outputs": [
    {
     "data": {
      "image/png": "[encoded data removed]",
      "text/plain": [
       "<Figure size 432x288 with 1 Axes>"
      ]
     },
     "metadata": {
      "needs_background": "light"
     },
     "output_type": "display_data"
    }
   ],
   "source": [
    "plt.figure(1)\n",
    "plt.plot(Train_Loss_Mean1,'r--',label='Train_Loss_Mean1')\n",
    "plt.plot(Train_Loss_Mean2,'k--',label='Train_Loss_Mean2')\n",
    "plt.legend()\n",
    "plt.grid()"
   ]
  },
  {
   "cell_type": "code",
   "execution_count": 27,
   "metadata": {},
   "outputs": [],
   "source": [
    "# for i in range(1,10):\n",
    "#     for j in range(int(num_test/4)+1):\n",
    "#         plt.figure()\n",
    "#         plt.figure(figsize=(12,4))\n",
    "#         plt.plot(train_pred[j*origin_day*4:(j+1)*origin_day*4,i-1],'k-',label=f'Train_Pred_Quantile{i/10}')\n",
    "#         plt.plot(Original_trainY[j*origin_day*4:(j+1)*origin_day*4,0],'r--',label=f'trainY')\n",
    "#         plt.grid()\n",
    "#         plt.legend()"
   ]
  },
  {
   "cell_type": "code",
   "execution_count": 28,
   "metadata": {},
   "outputs": [],
   "source": [
    "for q in range(len(tau)):\n",
    "    exec(\"Predict_origin%d=np.zeros((TEST.shape[0],origin_day))\"%(q+1))\n",
    "    exec(\"Predict_origin%d=Make_Data(TEST,Test_Predict_Ensemble%d,seq_length,future_length,Min,den,one_day,tau)\"%(q+1,q+1))"
   ]
  },
  {
   "cell_type": "code",
   "execution_count": 29,
   "metadata": {},
   "outputs": [],
   "source": [
    "test_pred=np.zeros((origin_day*num_test,len(tau)))\n",
    "for i in range(len(tau)):\n",
    "    for j in range(num_test):\n",
    "        exec(\"test_pred[origin_day*j:(j+1)*origin_day,i]=np.transpose(np.array(Predict_origin%d[j,:]))\"%(i+1))"
   ]
  },
  {
   "cell_type": "code",
   "execution_count": 30,
   "metadata": {},
   "outputs": [],
   "source": [
    "Re_TESTX=np.reshape(TEST,(TEST.shape[0],TEST.shape[1]))\n",
    "PredX_2days_ago=Re_TESTX[:,seq_length-60:]\n",
    "PredX_One_2days_ago=one_day_to_original_day(PredX_2days_ago)\n",
    "PredX_Re_2days_ago=Re_MinMaxScaler(PredX_One_2days_ago,Min,den)"
   ]
  },
  {
   "cell_type": "code",
   "execution_count": 31,
   "metadata": {},
   "outputs": [],
   "source": [
    "testX_Draw=np.zeros((origin_day*num_test,1))\n",
    "for j in range(num_test):\n",
    "    testX_Draw[origin_day*j:(j+1)*origin_day,0]=np.transpose(np.array(PredX_Re_2days_ago[j,:]))"
   ]
  },
  {
   "cell_type": "code",
   "execution_count": 32,
   "metadata": {},
   "outputs": [],
   "source": [
    "Pred=test_pred\n",
    "Pred=np.array(Pred)"
   ]
  },
  {
   "cell_type": "code",
   "execution_count": 33,
   "metadata": {},
   "outputs": [],
   "source": [
    "# k=int(num_test/4)+1\n",
    "# for i in range(1,10):\n",
    "#     for j in range(int(num_test/4)+1):\n",
    "#         plt.figure(k*i+j+1)\n",
    "#         plt.figure(figsize=(16,4))\n",
    "#         plt.plot(testX_Draw[j*origin_day*4:(j+1)*origin_day*4,0],'g-',label=f'2_days_ago_Quantile{i/10}')\n",
    "#         plt.plot(Pred[j*origin_day*4:(j+1)*origin_day*4,i-1],'k-',label=f'Pred_Quantile{i/10}')\n",
    "#         plt.plot(Best[j*origin_day*4:(j+1)*origin_day*4,i],'r--',label=f'Best_Quantile{i/10}')\n",
    "#         plt.plot(Pre_Best[j*origin_day*4:(j+1)*origin_day*4,i],'b--',label=f'Pre_Best_Quantile{i/10}')\n",
    "#         plt.grid()\n",
    "#         plt.legend()"
   ]
  },
  {
   "cell_type": "markdown",
   "metadata": {},
   "source": [
    "## 최종 제출"
   ]
  },
  {
   "cell_type": "code",
   "execution_count": 34,
   "metadata": {},
   "outputs": [
    {
     "name": "stdout",
     "output_type": "stream",
     "text": [
      "                      id  q_0.1  q_0.2  q_0.3  q_0.4  q_0.5  q_0.6  q_0.7  \\\n",
      "0       0.csv_Day7_0h00m    0.0    0.0    0.0    0.0    0.0    0.0    0.0   \n",
      "1       0.csv_Day7_0h30m    0.0    0.0    0.0    0.0    0.0    0.0    0.0   \n",
      "2       0.csv_Day7_1h00m    0.0    0.0    0.0    0.0    0.0    0.0    0.0   \n",
      "3       0.csv_Day7_1h30m    0.0    0.0    0.0    0.0    0.0    0.0    0.0   \n",
      "4       0.csv_Day7_2h00m    0.0    0.0    0.0    0.0    0.0    0.0    0.0   \n",
      "...                  ...    ...    ...    ...    ...    ...    ...    ...   \n",
      "7771  80.csv_Day8_21h30m    0.0    0.0    0.0    0.0    0.0    0.0    0.0   \n",
      "7772  80.csv_Day8_22h00m    0.0    0.0    0.0    0.0    0.0    0.0    0.0   \n",
      "7773  80.csv_Day8_22h30m    0.0    0.0    0.0    0.0    0.0    0.0    0.0   \n",
      "7774  80.csv_Day8_23h00m    0.0    0.0    0.0    0.0    0.0    0.0    0.0   \n",
      "7775  80.csv_Day8_23h30m    0.0    0.0    0.0    0.0    0.0    0.0    0.0   \n",
      "\n",
      "      q_0.8  q_0.9  \n",
      "0       0.0    0.0  \n",
      "1       0.0    0.0  \n",
      "2       0.0    0.0  \n",
      "3       0.0    0.0  \n",
      "4       0.0    0.0  \n",
      "...     ...    ...  \n",
      "7771    0.0    0.0  \n",
      "7772    0.0    0.0  \n",
      "7773    0.0    0.0  \n",
      "7774    0.0    0.0  \n",
      "7775    0.0    0.0  \n",
      "\n",
      "[7776 rows x 10 columns]\n"
     ]
    }
   ],
   "source": [
    "for i in range(9):\n",
    "    submission[f'q_0.{i+1}'] = test_pred[:,i]\n",
    "    \n",
    "print(submission)\n"
   ]
  },
  {
   "cell_type": "code",
   "execution_count": 35,
   "metadata": {},
   "outputs": [
    {
     "name": "stdout",
     "output_type": "stream",
     "text": [
      "1966.237s\n"
     ]
    }
   ],
   "source": [
    "print('{:0.3f}s'.format(time.time()-start))"
   ]
  },
  {
   "cell_type": "code",
   "execution_count": null,
   "metadata": {},
   "outputs": [],
   "source": []
  },
  {
   "cell_type": "code",
   "execution_count": 36,
   "metadata": {},
   "outputs": [],
   "source": [
    "np.savetxt(f'{file_name}.csv', submission, header=\"id,q_0.1,q_0.2,q_0.3,q_0.4,q_0.5,q_0.6,q_0.7,q_0.8,q_0.9\" ,comments='',delimiter = ',', fmt='%s')"
   ]
  },
  {
   "cell_type": "code",
   "execution_count": null,
   "metadata": {},
   "outputs": [],
   "source": []
  }
 ],
 "metadata": {
  "kernelspec": {
   "display_name": "Python 3",
   "language": "python",
   "name": "python3"
  },
  "language_info": {
   "codemirror_mode": {
    "name": "ipython",
    "version": 3
   },
   "file_extension": ".py",
   "mimetype": "text/x-python",
   "name": "python",
   "nbconvert_exporter": "python",
   "pygments_lexer": "ipython3",
   "version": "3.8.5"
  }
 },
 "nbformat": 4,
 "nbformat_minor": 4
}
